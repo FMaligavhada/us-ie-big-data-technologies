{
  "nbformat": 4,
  "nbformat_minor": 0,
  "metadata": {
    "colab": {
      "provenance": [],
      "authorship_tag": "ABX9TyM7Y5U8adv4xjeCIBiVNITC",
      "include_colab_link": true
    },
    "kernelspec": {
      "name": "python3",
      "display_name": "Python 3"
    },
    "language_info": {
      "name": "python"
    }
  },
  "cells": [
    {
      "cell_type": "markdown",
      "metadata": {
        "id": "view-in-github",
        "colab_type": "text"
      },
      "source": [
        "<a href=\"https://colab.research.google.com/github/FMaligavhada/us-ie-big-data-technologies/blob/master/day4.ipynb\" target=\"_parent\"><img src=\"https://colab.research.google.com/assets/colab-badge.svg\" alt=\"Open In Colab\"/></a>"
      ]
    },
    {
      "cell_type": "code",
      "source": [
        "!pip install apache-beam\n"
      ],
      "metadata": {
        "colab": {
          "base_uri": "https://localhost:8080/",
          "height": 0
        },
        "id": "Y1gYx85nfWXi",
        "outputId": "1932fbfa-82a3-4132-8728-13c8a22911ba"
      },
      "execution_count": 1,
      "outputs": [
        {
          "output_type": "stream",
          "name": "stdout",
          "text": [
            "Requirement already satisfied: apache-beam in /usr/local/lib/python3.12/dist-packages (2.67.0)\n",
            "Requirement already satisfied: crcmod<2.0,>=1.7 in /usr/local/lib/python3.12/dist-packages (from apache-beam) (1.7)\n",
            "Requirement already satisfied: orjson<4,>=3.9.7 in /usr/local/lib/python3.12/dist-packages (from apache-beam) (3.11.3)\n",
            "Requirement already satisfied: dill<0.3.2,>=0.3.1.1 in /usr/local/lib/python3.12/dist-packages (from apache-beam) (0.3.1.1)\n",
            "Requirement already satisfied: fastavro<2,>=0.23.6 in /usr/local/lib/python3.12/dist-packages (from apache-beam) (1.12.0)\n",
            "Requirement already satisfied: fasteners<1.0,>=0.3 in /usr/local/lib/python3.12/dist-packages (from apache-beam) (0.20)\n",
            "Requirement already satisfied: grpcio!=1.48.0,!=1.59.*,!=1.60.*,!=1.61.*,!=1.62.0,!=1.62.1,<1.66.0,<2,>=1.33.1 in /usr/local/lib/python3.12/dist-packages (from apache-beam) (1.65.5)\n",
            "Requirement already satisfied: hdfs<3.0.0,>=2.1.0 in /usr/local/lib/python3.12/dist-packages (from apache-beam) (2.7.3)\n",
            "Requirement already satisfied: httplib2<0.23.0,>=0.8 in /usr/local/lib/python3.12/dist-packages (from apache-beam) (0.22.0)\n",
            "Requirement already satisfied: jsonschema<5.0.0,>=4.0.0 in /usr/local/lib/python3.12/dist-packages (from apache-beam) (4.25.1)\n",
            "Requirement already satisfied: jsonpickle<4.0.0,>=3.0.0 in /usr/local/lib/python3.12/dist-packages (from apache-beam) (3.4.2)\n",
            "Requirement already satisfied: numpy<2.3.0,>=1.14.3 in /usr/local/lib/python3.12/dist-packages (from apache-beam) (2.0.2)\n",
            "Requirement already satisfied: objsize<0.8.0,>=0.6.1 in /usr/local/lib/python3.12/dist-packages (from apache-beam) (0.7.1)\n",
            "Requirement already satisfied: packaging>=22.0 in /usr/local/lib/python3.12/dist-packages (from apache-beam) (25.0)\n",
            "Requirement already satisfied: pymongo<5.0.0,>=3.8.0 in /usr/local/lib/python3.12/dist-packages (from apache-beam) (4.15.1)\n",
            "Requirement already satisfied: proto-plus<2,>=1.7.1 in /usr/local/lib/python3.12/dist-packages (from apache-beam) (1.26.1)\n",
            "Requirement already satisfied: protobuf!=4.0.*,!=4.21.*,!=4.22.0,!=4.23.*,!=4.24.*,<6.0.0.dev0,>=3.20.3 in /usr/local/lib/python3.12/dist-packages (from apache-beam) (5.29.5)\n",
            "Requirement already satisfied: pydot<2,>=1.2.0 in /usr/local/lib/python3.12/dist-packages (from apache-beam) (1.4.2)\n",
            "Requirement already satisfied: python-dateutil<3,>=2.8.0 in /usr/local/lib/python3.12/dist-packages (from apache-beam) (2.9.0.post0)\n",
            "Requirement already satisfied: pytz>=2018.3 in /usr/local/lib/python3.12/dist-packages (from apache-beam) (2025.2)\n",
            "Requirement already satisfied: redis<6,>=5.0.0 in /usr/local/lib/python3.12/dist-packages (from apache-beam) (5.3.1)\n",
            "Requirement already satisfied: regex>=2020.6.8 in /usr/local/lib/python3.12/dist-packages (from apache-beam) (2024.11.6)\n",
            "Requirement already satisfied: requests<3.0.0,>=2.32.4 in /usr/local/lib/python3.12/dist-packages (from apache-beam) (2.32.4)\n",
            "Requirement already satisfied: sortedcontainers>=2.4.0 in /usr/local/lib/python3.12/dist-packages (from apache-beam) (2.4.0)\n",
            "Requirement already satisfied: typing-extensions>=3.7.0 in /usr/local/lib/python3.12/dist-packages (from apache-beam) (4.15.0)\n",
            "Requirement already satisfied: zstandard<1,>=0.18.0 in /usr/local/lib/python3.12/dist-packages (from apache-beam) (0.24.0)\n",
            "Requirement already satisfied: pyyaml<7.0.0,>=3.12 in /usr/local/lib/python3.12/dist-packages (from apache-beam) (6.0.2)\n",
            "Requirement already satisfied: pymilvus<3.0.0,>=2.5.10 in /usr/local/lib/python3.12/dist-packages (from apache-beam) (2.5.15)\n",
            "Requirement already satisfied: pyarrow<19.0.0,>=3.0.0 in /usr/local/lib/python3.12/dist-packages (from apache-beam) (18.1.0)\n",
            "Requirement already satisfied: pyarrow-hotfix<1 in /usr/local/lib/python3.12/dist-packages (from apache-beam) (0.7)\n",
            "Requirement already satisfied: docopt in /usr/local/lib/python3.12/dist-packages (from hdfs<3.0.0,>=2.1.0->apache-beam) (0.6.2)\n",
            "Requirement already satisfied: six>=1.9.0 in /usr/local/lib/python3.12/dist-packages (from hdfs<3.0.0,>=2.1.0->apache-beam) (1.17.0)\n",
            "Requirement already satisfied: pyparsing!=3.0.0,!=3.0.1,!=3.0.2,!=3.0.3,<4,>=2.4.2 in /usr/local/lib/python3.12/dist-packages (from httplib2<0.23.0,>=0.8->apache-beam) (3.2.3)\n",
            "Requirement already satisfied: attrs>=22.2.0 in /usr/local/lib/python3.12/dist-packages (from jsonschema<5.0.0,>=4.0.0->apache-beam) (25.3.0)\n",
            "Requirement already satisfied: jsonschema-specifications>=2023.03.6 in /usr/local/lib/python3.12/dist-packages (from jsonschema<5.0.0,>=4.0.0->apache-beam) (2025.9.1)\n",
            "Requirement already satisfied: referencing>=0.28.4 in /usr/local/lib/python3.12/dist-packages (from jsonschema<5.0.0,>=4.0.0->apache-beam) (0.36.2)\n",
            "Requirement already satisfied: rpds-py>=0.7.1 in /usr/local/lib/python3.12/dist-packages (from jsonschema<5.0.0,>=4.0.0->apache-beam) (0.27.1)\n",
            "Requirement already satisfied: setuptools>69 in /usr/local/lib/python3.12/dist-packages (from pymilvus<3.0.0,>=2.5.10->apache-beam) (75.2.0)\n",
            "Requirement already satisfied: python-dotenv<2.0.0,>=1.0.1 in /usr/local/lib/python3.12/dist-packages (from pymilvus<3.0.0,>=2.5.10->apache-beam) (1.1.1)\n",
            "Requirement already satisfied: ujson>=2.0.0 in /usr/local/lib/python3.12/dist-packages (from pymilvus<3.0.0,>=2.5.10->apache-beam) (5.11.0)\n",
            "Requirement already satisfied: pandas>=1.2.4 in /usr/local/lib/python3.12/dist-packages (from pymilvus<3.0.0,>=2.5.10->apache-beam) (2.2.2)\n",
            "Requirement already satisfied: milvus-lite>=2.4.0 in /usr/local/lib/python3.12/dist-packages (from pymilvus<3.0.0,>=2.5.10->apache-beam) (2.5.1)\n",
            "Requirement already satisfied: dnspython<3.0.0,>=1.16.0 in /usr/local/lib/python3.12/dist-packages (from pymongo<5.0.0,>=3.8.0->apache-beam) (2.8.0)\n",
            "Requirement already satisfied: PyJWT>=2.9.0 in /usr/local/lib/python3.12/dist-packages (from redis<6,>=5.0.0->apache-beam) (2.10.1)\n",
            "Requirement already satisfied: charset_normalizer<4,>=2 in /usr/local/lib/python3.12/dist-packages (from requests<3.0.0,>=2.32.4->apache-beam) (3.4.3)\n",
            "Requirement already satisfied: idna<4,>=2.5 in /usr/local/lib/python3.12/dist-packages (from requests<3.0.0,>=2.32.4->apache-beam) (3.10)\n",
            "Requirement already satisfied: urllib3<3,>=1.21.1 in /usr/local/lib/python3.12/dist-packages (from requests<3.0.0,>=2.32.4->apache-beam) (2.5.0)\n",
            "Requirement already satisfied: certifi>=2017.4.17 in /usr/local/lib/python3.12/dist-packages (from requests<3.0.0,>=2.32.4->apache-beam) (2025.8.3)\n",
            "Requirement already satisfied: tqdm in /usr/local/lib/python3.12/dist-packages (from milvus-lite>=2.4.0->pymilvus<3.0.0,>=2.5.10->apache-beam) (4.67.1)\n",
            "Requirement already satisfied: tzdata>=2022.7 in /usr/local/lib/python3.12/dist-packages (from pandas>=1.2.4->pymilvus<3.0.0,>=2.5.10->apache-beam) (2025.2)\n"
          ]
        }
      ]
    },
    {
      "cell_type": "code",
      "source": [
        "with open(\"output.txt\", \"w\") as f:\n",
        "    f.write(\"1;Amy Sullivan;Female;20;Westlake,OH,44145;2020-08-31\\n\")\n",
        "    f.write(\"1;Paige Dixon;Female;43;Hicksville,NY,11801;2020-03-22\\n\")\n",
        "    f.write(\"1;John Smith;Male;34;Denver,CO,80203;2020-07-15\\n\")\n"
      ],
      "metadata": {
        "id": "wL9Dm67NfrCd"
      },
      "execution_count": 3,
      "outputs": []
    },
    {
      "cell_type": "code",
      "source": [
        "import apache_beam as beam\n",
        "\n",
        "with beam.Pipeline() as pipeline:\n",
        "    (\n",
        "        pipeline\n",
        "        | \"Read data\" >> beam.Create([\n",
        "            \"1;Amy Sullivan;Female;20;Westlake,OH,44145;2020-08-31\",\n",
        "            \"1;Paige Dixon;Female;43;Hicksville,NY,11801;2020-03-22\",\n",
        "            \"1;John Smith;Male;34;Denver,CO,80203;2020-07-15\"\n",
        "        ])\n",
        "        | \"Extract gender\" >> beam.Map(lambda line: line.split(\";\")[2].strip())\n",
        "        | \"Count per gender\" >> beam.combiners.Count.PerElement()\n",
        "        | \"Print results\" >> beam.Map(print)   # ✅ now valid\n",
        "    )\n"
      ],
      "metadata": {
        "colab": {
          "base_uri": "https://localhost:8080/",
          "height": 89
        },
        "id": "w6mti32gf1H5",
        "outputId": "16214baa-a65e-4a64-ba29-c3eb41c6abd4"
      },
      "execution_count": 5,
      "outputs": [
        {
          "output_type": "stream",
          "name": "stderr",
          "text": [
            "WARNING:apache_beam.runners.interactive.interactive_environment:Dependencies required for Interactive Beam PCollection visualization are not available, please use: `pip install apache-beam[interactive]` to install necessary dependencies to enable all data visualization features.\n"
          ]
        },
        {
          "output_type": "display_data",
          "data": {
            "application/javascript": [
              "\n",
              "        if (typeof window.interactive_beam_jquery == 'undefined') {\n",
              "          var jqueryScript = document.createElement('script');\n",
              "          jqueryScript.src = 'https://code.jquery.com/jquery-3.4.1.slim.min.js';\n",
              "          jqueryScript.type = 'text/javascript';\n",
              "          jqueryScript.onload = function() {\n",
              "            var datatableScript = document.createElement('script');\n",
              "            datatableScript.src = 'https://cdn.datatables.net/1.10.20/js/jquery.dataTables.min.js';\n",
              "            datatableScript.type = 'text/javascript';\n",
              "            datatableScript.onload = function() {\n",
              "              window.interactive_beam_jquery = jQuery.noConflict(true);\n",
              "              window.interactive_beam_jquery(document).ready(function($){\n",
              "                \n",
              "              });\n",
              "            }\n",
              "            document.head.appendChild(datatableScript);\n",
              "          };\n",
              "          document.head.appendChild(jqueryScript);\n",
              "        } else {\n",
              "          window.interactive_beam_jquery(document).ready(function($){\n",
              "            \n",
              "          });\n",
              "        }"
            ]
          },
          "metadata": {}
        },
        {
          "output_type": "stream",
          "name": "stdout",
          "text": [
            "('Female', 2)\n",
            "('Male', 1)\n"
          ]
        }
      ]
    },
    {
      "cell_type": "code",
      "source": [
        "import apache_beam as beam\n",
        "\n",
        "with beam.Pipeline() as pipeline:\n",
        "    (\n",
        "        pipeline\n",
        "        | \"Read data\" >> beam.Create([\n",
        "            \"1;Amy Sullivan;Female;20;Westlake,OH,44145;2020-08-31\",\n",
        "            \"1;Paige Dixon;Female;43;Hicksville,NY,11801;2020-03-22\",\n",
        "            \"1;John Smith;Male;34;Denver,CO,80203;2020-07-15\"\n",
        "        ])\n",
        "        | \"Extract gender\" >> beam.Map(lambda line: line.split(\";\")[2].strip())\n",
        "        | \"Count per gender\" >> beam.combiners.Count.PerElement()\n",
        "        | \"Print results\" >> beam.Map(print)\n",
        "    )\n"
      ],
      "metadata": {
        "colab": {
          "base_uri": "https://localhost:8080/",
          "height": 0
        },
        "id": "_ATelV4sgYew",
        "outputId": "37c47448-fb33-4ee4-9b73-24892fa7326d"
      },
      "execution_count": 6,
      "outputs": [
        {
          "output_type": "stream",
          "name": "stdout",
          "text": [
            "('Female', 2)\n",
            "('Male', 1)\n"
          ]
        }
      ]
    },
    {
      "cell_type": "code",
      "source": [
        "import apache_beam as beam\n",
        "\n",
        "with beam.Pipeline() as pipeline:\n",
        "    (\n",
        "        pipeline\n",
        "        | \"Read data\" >> beam.Create([\n",
        "            \"1;Amy Sullivan;Female;20;Westlake,OH,44145;2020-08-31\",\n",
        "            \"1;Paige Dixon;Female;43;Hicksville,NY,11801;2020-03-22\",\n",
        "            \"1;John Smith;Male;34;Denver,CO,80203;2020-07-15\",\n",
        "            \"1;Jane Doe;Female;29;Boston,MA,02115;2020-08-31\"\n",
        "        ])\n",
        "        | \"Extract join date\" >> beam.Map(lambda line: line.split(\";\")[-1].strip())\n",
        "        | \"Count per date\" >> beam.combiners.Count.PerElement()\n",
        "        | \"Print results\" >> beam.Map(print)\n",
        "    )\n"
      ],
      "metadata": {
        "colab": {
          "base_uri": "https://localhost:8080/",
          "height": 0
        },
        "id": "LDX4DSQTgx2v",
        "outputId": "44e93a8b-a756-4309-f4d7-df96f8a22c4e"
      },
      "execution_count": 7,
      "outputs": [
        {
          "output_type": "stream",
          "name": "stdout",
          "text": [
            "('2020-08-31', 2)\n",
            "('2020-03-22', 1)\n",
            "('2020-07-15', 1)\n"
          ]
        }
      ]
    },
    {
      "cell_type": "code",
      "source": [
        "import apache_beam as beam\n",
        "\n",
        "with beam.Pipeline() as pipeline:\n",
        "    (\n",
        "        pipeline\n",
        "        | \"Read data\" >> beam.Create([\n",
        "            \"1;Amy Sullivan;Female;20;Westlake,OH,44145;2020-08-31\",\n",
        "            \"1;Paige Dixon;Female;43;Hicksville,NY,11801;2020-03-22\",\n",
        "            \"1;John Smith;Male;34;Denver,CO,80203;2020-07-15\",\n",
        "            \"1;Jane Doe;Female;29;Boston,MA,02115;2020-08-31\",\n",
        "            \"1;Chris Evans;Male;40;Miami,FL,33101;2020-02-10\"\n",
        "        ])\n",
        "        | \"Extract state\" >> beam.Map(lambda line: line.split(\";\")[4].split(\",\")[1].strip())\n",
        "        | \"Count per state\" >> beam.combiners.Count.PerElement()\n",
        "        | \"Print results\" >> beam.Map(print)\n",
        "    )\n"
      ],
      "metadata": {
        "colab": {
          "base_uri": "https://localhost:8080/",
          "height": 0
        },
        "id": "fuZoMxglhMM-",
        "outputId": "12c4ea94-e02a-4b3e-e159-149c4103a385"
      },
      "execution_count": 8,
      "outputs": [
        {
          "output_type": "stream",
          "name": "stdout",
          "text": [
            "('OH', 1)\n",
            "('NY', 1)\n",
            "('CO', 1)\n",
            "('MA', 1)\n",
            "('FL', 1)\n"
          ]
        }
      ]
    }
  ]
}